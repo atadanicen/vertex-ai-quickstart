{
 "cells": [
  {
   "cell_type": "markdown",
   "metadata": {},
   "source": [
    "# Vertex AI Quickstart"
   ]
  },
  {
   "cell_type": "markdown",
   "metadata": {},
   "source": [
    "![title](assets/ml-workflow.svg)"
   ]
  },
  {
   "cell_type": "markdown",
   "metadata": {},
   "source": [
    "Vertex AI, Google Cloud tarafından sunulan ve makine öğrenimi (ML) modellerini kolayca oluşturmanıza, eğitmenize ve kullanmanıza yardımcı olan bir platformdur.\n",
    "\n",
    "- **Veri Hazırlama:** Makine öğrenimi modellerini eğitmek için verilerinizin temizlenmesini ve düzenlenmesini sağlar.\n",
    "\n",
    "- **Model Eğitimi:** Verilerinizi kullanarak modelinizi \"eğitebilirsiniz.\" Google, bu süreci hızlandırmak için güçlü altyapılar sunar.\n",
    "\n",
    "- **Hazır Modeller:** Sıfırdan başlamak istemiyorsanız, Google’ın hazır yapay zeka modellerini (örneğin, görüntü tanıma veya metin analizi modelleri) alıp kendi ihtiyacınıza göre uyarlayabilirsiniz.\n",
    "\n",
    "- **Model Kullanımı ve Yaygınlaştırma:** Eğitim tamamlandıktan sonra, modeli web sitenizde, uygulamanızda veya iş araçlarınızda kullanıma hazır hale getirir.\n",
    "\n",
    "- **İzleme ve Yönetim:** Modelinizi sürekli takip edebilir, performansını gözlemleyebilir ve güncel tutabilirsiniz."
   ]
  },
  {
   "cell_type": "markdown",
   "metadata": {},
   "source": [
    "- ### Creating Virtual Enviroment & Installing Requirements"
   ]
  },
  {
   "cell_type": "markdown",
   "metadata": {},
   "source": [
    "! python -m venv vertex-ai"
   ]
  },
  {
   "cell_type": "markdown",
   "metadata": {},
   "source": [
    "! source vertex-ai/bin/activate && pip install -r requirements.txt"
   ]
  },
  {
   "cell_type": "markdown",
   "metadata": {},
   "source": [
    "- ### Authenticate the client"
   ]
  },
  {
   "cell_type": "markdown",
   "metadata": {},
   "source": [
    "[Enable](https://cloud.google.com/vertex-ai/docs/start/client-libraries) the vertex ai API from the GCP console.\n",
    "- gcloud init\n",
    "- gcloud auth application-default login\n",
    "- gcloud auth application-default set-quota-project \"your-project-name\""
   ]
  },
  {
   "cell_type": "markdown",
   "metadata": {},
   "source": [
    "## Let's Dive In"
   ]
  },
  {
   "cell_type": "markdown",
   "metadata": {},
   "source": [
    "1 Token ~ 3-4 characters"
   ]
  },
  {
   "cell_type": "code",
   "execution_count": null,
   "metadata": {},
   "outputs": [],
   "source": [
    "from IPython.display import display, Markdown"
   ]
  },
  {
   "cell_type": "code",
   "execution_count": 98,
   "metadata": {},
   "outputs": [],
   "source": [
    "import vertexai\n",
    "from vertexai.generative_models import (\n",
    "    GenerativeModel,\n",
    "    Part,\n",
    "    Image,\n",
    "    SafetySetting,\n",
    "    GenerationConfig,\n",
    ")\n",
    "\n",
    "\n",
    "PROJECT_ID = \"vertex-ai-quickstart\"\n",
    "vertexai.init(project=PROJECT_ID, location=\"us-central1\")\n",
    "\n",
    "\n",
    "MODEL_ID = \"gemini-1.5-flash-002\"\n",
    "generation_config = GenerationConfig(\n",
    "    max_output_tokens=8192,\n",
    "    temperature=1,\n",
    ")\n",
    "model = GenerativeModel(\n",
    "    MODEL_ID,\n",
    "    generation_config=generation_config,\n",
    ")"
   ]
  },
  {
   "cell_type": "markdown",
   "metadata": {},
   "source": [
    "### Directly from text"
   ]
  },
  {
   "cell_type": "code",
   "execution_count": 99,
   "metadata": {},
   "outputs": [],
   "source": [
    "text_response = model.generate_content(\n",
    "    \"What's a good name for a flower shop that specializes in selling bouquets of dried flowers?\"\n",
    ")"
   ]
  },
  {
   "cell_type": "code",
   "execution_count": 100,
   "metadata": {},
   "outputs": [
    {
     "data": {
      "text/markdown": [
       "**Evocative & Romantic:**\n",
       "\n",
       "* Everlasting Blooms\n",
       "* The Dried Petal\n",
       "* Whispers of Bloom\n",
       "* Timeless Blooms\n",
       "* Bloom & Preserve\n",
       "* The Botanical Archive\n",
       "* Dried & Delightful\n",
       "* Everlasting Bouquet\n",
       "* Petal & Past\n",
       "* The Dried Garden\n",
       "\n",
       "\n",
       "**Modern & Chic:**\n",
       "\n",
       "* Bloom Static\n",
       "* The Paper Petal\n",
       "* Everbloom Co.\n",
       "* Botanical Hues\n",
       "* Dried & Designed\n",
       "* The Still Bloom\n",
       "* Preserve & Present\n",
       "\n",
       "\n",
       "**Rustic & Farmhouse:**\n",
       "\n",
       "* The Dried Flower Barn\n",
       "* The Willow & Thistle\n",
       "* The Sun-Kissed Petal\n",
       "* Rustic Blooms\n",
       "* Harvest Hues\n",
       "\n",
       "\n",
       "**Unique & Playful:**\n",
       "\n",
       "* Petal Pushers (with a vintage/retro font)\n",
       "* The Bloom Box\n",
       "* Forever in Bloom\n",
       "* The Dried & True\n",
       "\n",
       "\n",
       "When choosing, consider:\n",
       "\n",
       "* **Your target audience:**  A younger audience might prefer a more modern name, while an older audience might prefer something more romantic or classic.\n",
       "* **Your brand aesthetic:**  Do you want your shop to feel rustic, modern, romantic, etc.?  The name should reflect this.\n",
       "* **Memorability:**  A short, catchy name is easier to remember.\n",
       "* **Availability:** Check if the name is available as a website domain and social media handle.\n",
       "\n",
       "\n",
       "Remember to check for trademark conflicts before settling on a name.\n"
      ],
      "text/plain": [
       "<IPython.core.display.Markdown object>"
      ]
     },
     "metadata": {},
     "output_type": "display_data"
    }
   ],
   "source": [
    "display(Markdown(text_response.text))"
   ]
  },
  {
   "cell_type": "markdown",
   "metadata": {},
   "source": [
    "### Multipart Usage"
   ]
  },
  {
   "cell_type": "code",
   "execution_count": 101,
   "metadata": {},
   "outputs": [],
   "source": [
    "MODEL_ID = \"gemini-1.5-flash-002\"\n",
    "generation_config = GenerationConfig(\n",
    "    max_output_tokens=8192,\n",
    "    temperature=0.1,\n",
    ")\n",
    "\n",
    "model = GenerativeModel(\n",
    "    MODEL_ID,\n",
    "    generation_config=generation_config,\n",
    ")"
   ]
  },
  {
   "cell_type": "code",
   "execution_count": null,
   "metadata": {},
   "outputs": [],
   "source": [
    "language = \"Turkish\"\n",
    "text_part = Part.from_text(\n",
    "    f\"Convert this menu into a {language} menu,and don't forget to add prices with their original types.\"\n",
    ")\n",
    "image_part = Part.from_image(Image.load_from_file(\"assets/japanese-menu.jpg\"))"
   ]
  },
  {
   "cell_type": "code",
   "execution_count": 49,
   "metadata": {},
   "outputs": [],
   "source": [
    "multipart_response = model.generate_content([text_part, image_part])"
   ]
  },
  {
   "cell_type": "code",
   "execution_count": 50,
   "metadata": {},
   "outputs": [
    {
     "data": {
      "text/markdown": [
       "Here's a Turkish translation of the Japanese menu, including prices.  Note that directly translating some dish names might not be ideal for a Turkish audience, so I've opted for descriptive translations where appropriate.  Also, the original currency is assumed to be Japanese Yen (¥).  I've kept the Yen symbol for clarity.\n",
       "\n",
       "\n",
       "**Meze (Mezeler)**\n",
       "\n",
       "* **Edamame:** ¥300\n",
       "* **Domatesli Salata:** ¥380 (Tomato Salad)\n",
       "* **Tuzlu Hamsi:** ¥380 (Salted Fish)\n",
       "* **Fındık Ezmesi:** ¥300 (Hazelnut Paste)\n",
       "* **Peynir Dilimleri:** ¥300 (Cheese Slices)\n",
       "* **Ahtapot Salatası:** ¥350 (Octopus Salad)\n",
       "* **Tuzlu Karides:** ¥350 (Salted Shrimp)\n",
       "* **Sirazlı Salata:** ¥330 (Whitebait Salad)\n",
       "* **Yengeç Ezmesi:** ¥480 (Crab Paste)\n",
       "* **Mısır Salatası:** ¥300 (Corn Salad)\n",
       "* **Kızarmış Yumurta:** ¥380 (Fried Egg)\n",
       "* **Kimchi:** ¥350\n",
       "* **Turşu:** ¥300 (Pickles)\n",
       "* **Yaprak Sarması:** ¥380 (Stuffed Grape Leaves)\n",
       "* **Çin lahanası:** ¥480 (Chinese Cabbage)\n",
       "* **Turşu Karışımı:** ¥380 (Mixed Pickles)\n",
       "* **Haşlanmış Yumurta:** ¥380 (Boiled Egg)\n",
       "* **Deniz Ürünlü Fermente Fasulye:** ¥480 (Fermented Beans with Seafood)\n",
       "* **Deniz Ürünlü Natto:** ¥580 (Natto with Seafood)\n",
       "\n",
       "\n",
       "**Salatalar (Salads)**\n",
       "\n",
       "* **Sebze Salatası:** ¥420 (Vegetable Salad)\n",
       "* **Sezar Salatası:** ¥530 (Caesar Salad)\n",
       "* **Makarna Salatası:** ¥380 (Macaroni Salad)\n",
       "\n",
       "\n",
       "**Izgara (Grilled)**\n",
       "\n",
       "* **Tavuk But:** ¥160 (Chicken Leg)\n",
       "* **Tavuk Derisi:** ¥160 (Chicken Skin)\n",
       "* **Tavuk Köfte:** ¥160 (Chicken Meatball)\n",
       "* **Tavuk Gögüs:** ¥160 (Chicken Breast)\n",
       "* **Tavuk Sote:** ¥160 (Chicken Stir-fry)\n",
       "\n",
       "\n",
       "**Kızartmalar (Fried)**\n",
       "\n",
       "* **Hamsi:** ¥380 (Small Fried Fish)\n",
       "* **Patates Kızartması:** ¥580 (French Fries)\n",
       "* **Köfte:** ¥580 (Meatballs)\n",
       "* **Karides:** ¥580 (Shrimp)\n",
       "* **Sosis:** ¥580 (Sausage)\n",
       "* **Yağlı Tavuk:** ¥580 (Fried Chicken)\n",
       "* **Domatesli Patates:** ¥250 (Potato with Tomato)\n",
       "* **Kızarmış Pirinç Topları:** ¥300 (Fried Rice Balls)\n",
       "* **Kızarmış Tofu:** ¥380 (Fried Tofu)\n",
       "\n",
       "\n",
       "**Kızarmış Yemekler (Other Fried Dishes)**\n",
       "\n",
       "* **Sarımsaklı Tavuk:** ¥350 (Garlic Chicken)\n",
       "* **Patates Kroket:** ¥300 (Potato Croquettes)\n",
       "* **Kızarmış Patates:** ¥350 (Fried Potatoes)\n",
       "* **Karides:** ¥380 (Fried Shrimp)\n",
       "* **Ahtapot:** ¥480 (Fried Octopus)\n",
       "* **Tavuk:** ¥480 (Fried Chicken)\n",
       "* **Tavuk Kanat:** ¥380 (Fried Chicken Wings)\n",
       "* **Kızarmış Patates:** ¥380 (Fried Potatoes)\n",
       "* **Tofu:** ¥480 (Fried Tofu)\n",
       "* **Tavuk:** ¥480 (Fried Chicken)\n",
       "\n",
       "\n",
       "**Çorbalar (Soups)**\n",
       "\n",
       "* **Çay:** ¥180 (Tea)\n",
       "* **Çorba:** ¥150 (Soup)\n",
       "* **Pirinç:** ¥100 (Rice)\n",
       "* **Yumurta:** ¥80 (Egg)\n",
       "\n",
       "\n",
       "**Not:** Prices are approximate and may vary.  This translation aims for clarity and cultural relevance.  Consider adding images of the dishes for a more appealing menu.\n"
      ],
      "text/plain": [
       "<IPython.core.display.Markdown object>"
      ]
     },
     "metadata": {},
     "output_type": "display_data"
    }
   ],
   "source": [
    "display(Markdown(multipart_response.text))"
   ]
  },
  {
   "cell_type": "markdown",
   "metadata": {},
   "source": [
    "## Recipe Maker"
   ]
  },
  {
   "cell_type": "code",
   "execution_count": 272,
   "metadata": {},
   "outputs": [],
   "source": [
    "response_schema = {\n",
    "    \"type\": \"array\",\n",
    "    \"items\": {\n",
    "        \"type\": \"object\",\n",
    "        \"properties\": {\n",
    "            \"description\": {\n",
    "                \"type\": \"string\",\n",
    "                \"description\": \"A description of the recipe for cookbook.\",\n",
    "            },\n",
    "            \"recipe_name\": {\n",
    "                \"type\": \"string\",\n",
    "                \"description\": \"The name of the recipe.\",\n",
    "            },\n",
    "            \"ingredients\": {\n",
    "                \"type\": \"array\",\n",
    "                \"items\": {\n",
    "                    \"type\": \"object\",\n",
    "                    \"properties\": {\n",
    "                        \"name\": {\n",
    "                            \"type\": \"string\",\n",
    "                        },\n",
    "                        \"quantity\": {\n",
    "                            \"type\": \"string\",\n",
    "                        },\n",
    "                    },\n",
    "                    \"required\": [\"name\", \"quantity\"],\n",
    "                },\n",
    "                \"description\": \"A list of ingredients with their names and quantities.\",\n",
    "            },\n",
    "            \"cooking_time\": {\n",
    "                \"type\": \"string\",\n",
    "                \"description\": \"The estimated time required to cook the recipe.\",\n",
    "            },\n",
    "            \"servings\": {\n",
    "                \"type\": \"integer\",\n",
    "                \"description\": \"The number of servings the recipe yields.\",\n",
    "            },\n",
    "            \"steps\": {\n",
    "                \"type\": \"array\",\n",
    "                \"items\": {\n",
    "                    \"type\": \"string\",\n",
    "                },\n",
    "                \"description\": \"A list of steps to prepare the recipe.\",\n",
    "            },\n",
    "        },\n",
    "        \"required\": [\"recipe_name\", \"ingredients\", \"steps\"],\n",
    "    },\n",
    "}"
   ]
  },
  {
   "cell_type": "code",
   "execution_count": 310,
   "metadata": {},
   "outputs": [],
   "source": [
    "MODEL_ID = \"gemini-1.5-flash-002\"\n",
    "generation_config = GenerationConfig(\n",
    "    max_output_tokens=8192,\n",
    "    temperature=0.5,\n",
    "    response_mime_type=\"application/json\",\n",
    "    response_schema=response_schema,\n",
    ")\n",
    "safety_settings = [\n",
    "    SafetySetting(\n",
    "        category=SafetySetting.HarmCategory.HARM_CATEGORY_HATE_SPEECH,\n",
    "        threshold=SafetySetting.HarmBlockThreshold.BLOCK_LOW_AND_ABOVE,\n",
    "    ),\n",
    "    SafetySetting(\n",
    "        category=SafetySetting.HarmCategory.HARM_CATEGORY_DANGEROUS_CONTENT,\n",
    "        threshold=SafetySetting.HarmBlockThreshold.BLOCK_LOW_AND_ABOVE,\n",
    "    ),\n",
    "    SafetySetting(\n",
    "        category=SafetySetting.HarmCategory.HARM_CATEGORY_SEXUALLY_EXPLICIT,\n",
    "        threshold=SafetySetting.HarmBlockThreshold.BLOCK_LOW_AND_ABOVE,\n",
    "    ),\n",
    "    SafetySetting(\n",
    "        category=SafetySetting.HarmCategory.HARM_CATEGORY_HARASSMENT,\n",
    "        threshold=SafetySetting.HarmBlockThreshold.BLOCK_LOW_AND_ABOVE,\n",
    "    ),\n",
    "]\n",
    "model = GenerativeModel(\n",
    "    MODEL_ID,\n",
    "    generation_config=generation_config,\n",
    "    safety_settings=safety_settings,\n",
    "    system_instruction=[\n",
    "        \"\"\"You are 3 Michelin star chef and your job is create recipe with one look to photo of the course.\"\"\"\n",
    "    ],\n",
    ")"
   ]
  },
  {
   "cell_type": "code",
   "execution_count": 329,
   "metadata": {},
   "outputs": [],
   "source": [
    "recipe_img_path = \"assets/schnitzel.jpg\"\n",
    "image_part = Part.from_image(Image.load_from_file(recipe_img_path))\n",
    "text_part = Part.from_text(\"Create a good recipe from this course.\")"
   ]
  },
  {
   "cell_type": "code",
   "execution_count": 216,
   "metadata": {},
   "outputs": [
    {
     "data": {
      "text/plain": [
       "total_tokens: 280\n",
       "total_billable_characters: 77"
      ]
     },
     "execution_count": 216,
     "metadata": {},
     "output_type": "execute_result"
    }
   ],
   "source": [
    "model.count_tokens([image_part])"
   ]
  },
  {
   "cell_type": "code",
   "execution_count": 239,
   "metadata": {},
   "outputs": [
    {
     "data": {
      "text/plain": [
       "total_tokens: 30\n",
       "total_billable_characters: 109"
      ]
     },
     "execution_count": 239,
     "metadata": {},
     "output_type": "execute_result"
    }
   ],
   "source": [
    "model.count_tokens([text_part])"
   ]
  },
  {
   "cell_type": "code",
   "execution_count": 330,
   "metadata": {},
   "outputs": [],
   "source": [
    "recipe_response = model.generate_content([image_part, text_part])"
   ]
  },
  {
   "cell_type": "code",
   "execution_count": 235,
   "metadata": {},
   "outputs": [
    {
     "data": {
      "text/plain": [
       "prompt_token_count: 327\n",
       "candidates_token_count: 507\n",
       "total_token_count: 834"
      ]
     },
     "execution_count": 235,
     "metadata": {},
     "output_type": "execute_result"
    }
   ],
   "source": [
    "recipe_response.usage_metadata"
   ]
  },
  {
   "cell_type": "code",
   "execution_count": 240,
   "metadata": {},
   "outputs": [
    {
     "data": {
      "text/plain": [
       "candidates {\n",
       "  content {\n",
       "    role: \"model\"\n",
       "    parts {\n",
       "      text: \"[{\\\"recipe_name\\\": \\\"Beef Wellington\\\", \\\"ingredients\\\": [{\\\"name\\\": \\\"Beef Tenderloin\\\", \\\"quantity\\\": \\\"2 lbs\\\"}, {\\\"name\\\": \\\"Puff Pastry\\\", \\\"quantity\\\": \\\"1 sheet\\\"}, {\\\"name\\\": \\\"Mushrooms\\\", \\\"quantity\\\": \\\"8 oz\\\"}, {\\\"name\\\": \\\"Shallots\\\", \\\"quantity\\\": \\\"2\\\"}, {\\\"name\\\": \\\"Garlic\\\", \\\"quantity\\\": \\\"2 cloves\\\"}, {\\\"name\\\": \\\"Thyme\\\", \\\"quantity\\\": \\\"2 sprigs\\\"}, {\\\"name\\\": \\\"Worcestershire Sauce\\\", \\\"quantity\\\": \\\"1 tbsp\\\"}, {\\\"name\\\": \\\"Dijon Mustard\\\", \\\"quantity\\\": \\\"1 tbsp\\\"}, {\\\"name\\\": \\\"Olive Oil\\\", \\\"quantity\\\": \\\"2 tbsp\\\"}, {\\\"name\\\": \\\"Salt\\\", \\\"quantity\\\": \\\"to taste\\\"}, {\\\"name\\\": \\\"Pepper\\\", \\\"quantity\\\": \\\"to taste\\\"}, {\\\"name\\\": \\\"Egg Wash\\\", \\\"quantity\\\": \\\"1 egg, beaten\\\"}], \\\"cooking_time\\\": \\\"1 hour 30 minutes\\\", \\\"servings\\\": 6, \\\"steps\\\": [\\\"Preheat oven to 400°F (200°C).\\\", \\\"Season beef tenderloin generously with salt and pepper.\\\", \\\"In a large skillet, heat olive oil over medium heat. Add shallots and garlic and cook until softened, about 5 minutes.\\\", \\\"Add mushrooms and thyme and cook until mushrooms are tender and liquid has evaporated, about 10 minutes.\\\", \\\"Stir in Worcestershire sauce and Dijon mustard. Season with salt and pepper to taste.\\\", \\\"Spread mushroom mixture evenly over a sheet of plastic wrap. Place beef tenderloin on top and spread evenly with the mushroom mixture.\\\", \\\"Tightly roll the beef into a log and wrap tightly in plastic wrap. Refrigerate for at least 30 minutes.\\\", \\\"Unwrap the beef and place it on a baking sheet. Spread a thin layer of egg wash over the beef.\\\", \\\"Roll out puff pastry to a rectangle large enough to enclose the beef. Place the beef in the center of the pastry and fold the pastry over the beef, sealing the edges tightly.\\\", \\\"Brush the pastry with egg wash and score the top with a knife.\\\", \\\"Bake for 30-40 minutes, or until the pastry is golden brown and the beef is cooked to your liking.\\\", \\\"Let rest for 10 minutes before slicing and serving.\\\"]}\\n]\"\n",
       "    }\n",
       "  }\n",
       "  finish_reason: STOP\n",
       "  safety_ratings {\n",
       "    category: HARM_CATEGORY_HATE_SPEECH\n",
       "    probability: NEGLIGIBLE\n",
       "    probability_score: 0.138462037\n",
       "    severity: HARM_SEVERITY_NEGLIGIBLE\n",
       "    severity_score: 0.115960866\n",
       "  }\n",
       "  safety_ratings {\n",
       "    category: HARM_CATEGORY_DANGEROUS_CONTENT\n",
       "    probability: NEGLIGIBLE\n",
       "    probability_score: 0.200557858\n",
       "    severity: HARM_SEVERITY_MEDIUM\n",
       "    severity_score: 0.471953\n",
       "  }\n",
       "  safety_ratings {\n",
       "    category: HARM_CATEGORY_HARASSMENT\n",
       "    probability: NEGLIGIBLE\n",
       "    probability_score: 0.165593475\n",
       "    severity: HARM_SEVERITY_NEGLIGIBLE\n",
       "    severity_score: 0.0994701385\n",
       "  }\n",
       "  safety_ratings {\n",
       "    category: HARM_CATEGORY_SEXUALLY_EXPLICIT\n",
       "    probability: NEGLIGIBLE\n",
       "    probability_score: 0.0953494832\n",
       "    severity: HARM_SEVERITY_NEGLIGIBLE\n",
       "    severity_score: 0.175538197\n",
       "  }\n",
       "  avg_logprobs: -0.08448447939205371\n",
       "}\n",
       "usage_metadata {\n",
       "  prompt_token_count: 349\n",
       "  candidates_token_count: 473\n",
       "  total_token_count: 822\n",
       "}\n",
       "model_version: \"gemini-1.5-flash-002\""
      ]
     },
     "execution_count": 240,
     "metadata": {},
     "output_type": "execute_result"
    }
   ],
   "source": [
    "recipe_response"
   ]
  },
  {
   "cell_type": "code",
   "execution_count": 331,
   "metadata": {},
   "outputs": [
    {
     "name": "stdout",
     "output_type": "stream",
     "text": [
      "[{'cooking_time': '30 minutes',\n",
      "  'description': 'A classic Wiener Schnitzel recipe with roasted potatoes and '\n",
      "                 'cranberry sauce.',\n",
      "  'ingredients': [{'name': 'Veal cutlets',\n",
      "                   'quantity': '4 (about 1/2 inch thick)'},\n",
      "                  {'name': 'All-purpose flour', 'quantity': '1 cup'},\n",
      "                  {'name': 'Eggs', 'quantity': '2, beaten'},\n",
      "                  {'name': 'Breadcrumbs', 'quantity': '2 cups'},\n",
      "                  {'name': 'Salt', 'quantity': '1 tsp'},\n",
      "                  {'name': 'Black pepper', 'quantity': '1/2 tsp'},\n",
      "                  {'name': 'Butter', 'quantity': '4 tbsp'},\n",
      "                  {'name': 'Vegetable oil', 'quantity': '2 tbsp'},\n",
      "                  {'name': 'Potatoes',\n",
      "                   'quantity': '1 lb, small, halved or quartered'},\n",
      "                  {'name': 'Olive oil', 'quantity': '2 tbsp'},\n",
      "                  {'name': 'Fresh parsley', 'quantity': '1 tbsp, chopped'},\n",
      "                  {'name': 'Cranberry sauce', 'quantity': '1/2 cup'},\n",
      "                  {'name': 'Lemon wedges', 'quantity': '4'}],\n",
      "  'recipe_img': 'assets/schnitzel.jpg',\n",
      "  'recipe_name': 'Wiener Schnitzel with Roasted Potatoes and Cranberry Sauce',\n",
      "  'servings': 4,\n",
      "  'steps': ['Prepare the veal cutlets by gently pounding them to an even '\n",
      "            'thickness. Season with salt and pepper.',\n",
      "            'Set up a breading station with flour, beaten eggs, and '\n",
      "            'breadcrumbs in separate shallow dishes.',\n",
      "            'Dredge each cutlet in flour, then dip in the beaten eggs, and '\n",
      "            'finally coat thoroughly with breadcrumbs, pressing gently to '\n",
      "            'adhere.',\n",
      "            'Heat butter and vegetable oil in a large skillet over medium-high '\n",
      "            'heat.',\n",
      "            'Carefully place the breaded cutlets in the hot skillet and cook '\n",
      "            'for about 3-4 minutes per side, until golden brown and cooked '\n",
      "            'through.',\n",
      "            'While the schnitzel is cooking, toss the potatoes with olive oil, '\n",
      "            'salt, and pepper. Roast in a preheated oven at 400°F (200°C) for '\n",
      "            '20-25 minutes, or until tender and slightly browned. Stir in '\n",
      "            'fresh parsley during the last 5 minutes of roasting.',\n",
      "            'Serve the Wiener Schnitzel immediately, topped with a lemon wedge '\n",
      "            'and accompanied by the roasted potatoes and cranberry sauce.']}]\n"
     ]
    }
   ],
   "source": [
    "import json\n",
    "from pprint import pprint\n",
    "\n",
    "recipe_json = json.loads(recipe_response.text)\n",
    "recipe_json[0].update({\"recipe_img\": recipe_img_path})\n",
    "pprint(recipe_json)"
   ]
  },
  {
   "cell_type": "code",
   "execution_count": 332,
   "metadata": {},
   "outputs": [
    {
     "name": "stdout",
     "output_type": "stream",
     "text": [
      "HTML file has been created: wiener-schnitzel-with-roasted-potatoes-and-cranberry-sauce.html\n"
     ]
    }
   ],
   "source": [
    "from jinja2 import Environment, FileSystemLoader\n",
    "import os\n",
    "\n",
    "env = Environment(loader=FileSystemLoader(searchpath=\"./\"))\n",
    "template = env.get_template(\"three-star-chef.html\")\n",
    "\n",
    "html_output = template.render(recipes=recipe_json)\n",
    "output_folder = \"recipes\"\n",
    "file_name = \"-\".join(str.split(recipe_json[0][\"recipe_name\"].lower(), \" \")) + \".html\"\n",
    "output_path = os.path.join(output_folder, file_name)\n",
    "\n",
    "with open(output_path, \"w\") as file:\n",
    "    file.write(html_output)\n",
    "\n",
    "print(f\"HTML file has been created: {file_name}\")"
   ]
  },
  {
   "cell_type": "code",
   "execution_count": null,
   "metadata": {},
   "outputs": [],
   "source": []
  }
 ],
 "metadata": {
  "kernelspec": {
   "display_name": "vertex-ai",
   "language": "python",
   "name": "python3"
  },
  "language_info": {
   "codemirror_mode": {
    "name": "ipython",
    "version": 3
   },
   "file_extension": ".py",
   "mimetype": "text/x-python",
   "name": "python",
   "nbconvert_exporter": "python",
   "pygments_lexer": "ipython3",
   "version": "3.10.14"
  }
 },
 "nbformat": 4,
 "nbformat_minor": 2
}
